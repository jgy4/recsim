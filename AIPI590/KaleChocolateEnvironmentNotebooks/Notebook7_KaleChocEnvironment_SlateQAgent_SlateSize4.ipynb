{
 "cells": [
  {
   "cell_type": "markdown",
   "metadata": {
    "id": "-qMOtbyxDvgR"
   },
   "source": [
    "# Notebook 7\n",
    "### In this notebook we compare one static in our LTS environment that uses our LTS User Model and LTS Document Sampler. This environment creates the Kale/Chocolate problem discussed in the Google RecSim Paper. In this notebook we use slate size = 4.\n",
    "\n",
    "### Table of Contents\n",
    "- Section 1 : Create Document Sampler, User Model, and LTS Environment\n",
    "- Section 2 : Create and Train Agent\n",
    "- Section 3 : Evaluate Agent Performance with Tensorboard"
   ]
  },
  {
   "cell_type": "markdown",
   "metadata": {
    "id": "n353s9BqE97C"
   },
   "source": [
    "### Imports"
   ]
  },
  {
   "cell_type": "code",
   "execution_count": 1,
   "metadata": {
    "colab": {
     "base_uri": "https://localhost:8080/"
    },
    "executionInfo": {
     "elapsed": 20678,
     "status": "ok",
     "timestamp": 1650819851735,
     "user": {
      "displayName": "Jasmine Young",
      "userId": "18243393995251490363"
     },
     "user_tz": 240
    },
    "id": "AudKOwl_X-Uz",
    "outputId": "04ab4d8f-be8c-4913-fd1f-465f054cb9f8"
   },
   "outputs": [
    {
     "name": "stdout",
     "output_type": "stream",
     "text": [
      "Collecting git+https://github.com/jgy4/recsim\n",
      "  Cloning https://github.com/jgy4/recsim to /private/var/folders/63/s86bv36d4c7968bfvh7fb4w40000gn/T/pip-req-build-fs_zmtl0\n",
      "  Running command git clone -q https://github.com/jgy4/recsim /private/var/folders/63/s86bv36d4c7968bfvh7fb4w40000gn/T/pip-req-build-fs_zmtl0\n",
      "Requirement already satisfied: absl-py in /Users/jasmineyoung/opt/anaconda3/lib/python3.8/site-packages (from recsim==0.2.4) (0.11.0)\n",
      "Collecting dopamine-rl>=2.0.5\n",
      "  Downloading dopamine_rl-4.0.2-py3-none-any.whl (164 kB)\n",
      "\u001b[K     |████████████████████████████████| 164 kB 2.2 MB/s eta 0:00:01\n",
      "\u001b[?25hCollecting gin-config\n",
      "  Downloading gin_config-0.5.0-py3-none-any.whl (61 kB)\n",
      "\u001b[K     |████████████████████████████████| 61 kB 20.0 MB/s eta 0:00:01\n",
      "\u001b[?25hRequirement already satisfied: gym in /Users/jasmineyoung/opt/anaconda3/lib/python3.8/site-packages (from recsim==0.2.4) (0.19.0)\n",
      "Requirement already satisfied: numpy in /Users/jasmineyoung/opt/anaconda3/lib/python3.8/site-packages (from recsim==0.2.4) (1.21.5)\n",
      "Requirement already satisfied: scipy in /Users/jasmineyoung/opt/anaconda3/lib/python3.8/site-packages (from recsim==0.2.4) (1.4.1)\n",
      "Requirement already satisfied: tensorflow in /Users/jasmineyoung/opt/anaconda3/lib/python3.8/site-packages (from recsim==0.2.4) (2.3.0)\n",
      "Requirement already satisfied: six in /Users/jasmineyoung/opt/anaconda3/lib/python3.8/site-packages (from absl-py->recsim==0.2.4) (1.15.0)\n",
      "Collecting jax>=0.1.72\n",
      "  Downloading jax-0.3.7.tar.gz (944 kB)\n",
      "\u001b[K     |████████████████████████████████| 944 kB 16.3 MB/s eta 0:00:01\n",
      "\u001b[?25hCollecting tf-slim>=1.0\n",
      "  Downloading tf_slim-1.1.0-py2.py3-none-any.whl (352 kB)\n",
      "\u001b[K     |████████████████████████████████| 352 kB 49.5 MB/s eta 0:00:01\n",
      "\u001b[?25hRequirement already satisfied: pandas>=0.24.2 in /Users/jasmineyoung/opt/anaconda3/lib/python3.8/site-packages (from dopamine-rl>=2.0.5->recsim==0.2.4) (1.1.1)\n",
      "Collecting tensorflow-probability>=0.13.0\n",
      "  Downloading tensorflow_probability-0.16.0-py2.py3-none-any.whl (6.3 MB)\n",
      "\u001b[K     |████████████████████████████████| 6.3 MB 1.6 MB/s eta 0:00:01\n",
      "\u001b[?25hCollecting jaxlib>=0.1.51\n",
      "  Downloading jaxlib-0.3.7-cp38-none-macosx_10_9_x86_64.whl (72.1 MB)\n",
      "\u001b[K     |████████████████████████████████| 72.1 MB 53.2 MB/s eta 0:00:01\n",
      "\u001b[?25hCollecting pygame>=1.9.2\n",
      "  Downloading pygame-2.1.2-cp38-cp38-macosx_10_9_x86_64.whl (8.9 MB)\n",
      "\u001b[K     |████████████████████████████████| 8.9 MB 23.6 MB/s eta 0:00:01\n",
      "\u001b[?25hCollecting opencv-python>=3.4.8.29\n",
      "  Downloading opencv_python-4.5.5.64-cp36-abi3-macosx_10_15_x86_64.whl (46.3 MB)\n",
      "\u001b[K     |████████████████████████████████| 46.3 MB 34.2 MB/s eta 0:00:01\n",
      "\u001b[?25hRequirement already satisfied: Pillow>=7.0.0 in /Users/jasmineyoung/opt/anaconda3/lib/python3.8/site-packages (from dopamine-rl>=2.0.5->recsim==0.2.4) (7.2.0)\n",
      "Collecting flax>=0.2.0\n",
      "  Downloading flax-0.4.1-py3-none-any.whl (184 kB)\n",
      "\u001b[K     |████████████████████████████████| 184 kB 42.3 MB/s eta 0:00:01\n",
      "\u001b[?25hRequirement already satisfied: cloudpickle<1.7.0,>=1.2.0 in /Users/jasmineyoung/opt/anaconda3/lib/python3.8/site-packages (from gym->recsim==0.2.4) (1.5.0)\n",
      "Requirement already satisfied: keras-preprocessing<1.2,>=1.1.1 in /Users/jasmineyoung/opt/anaconda3/lib/python3.8/site-packages (from tensorflow->recsim==0.2.4) (1.1.2)\n",
      "Requirement already satisfied: gast==0.3.3 in /Users/jasmineyoung/opt/anaconda3/lib/python3.8/site-packages (from tensorflow->recsim==0.2.4) (0.3.3)\n",
      "Requirement already satisfied: astunparse==1.6.3 in /Users/jasmineyoung/opt/anaconda3/lib/python3.8/site-packages (from tensorflow->recsim==0.2.4) (1.6.3)\n",
      "Requirement already satisfied: protobuf>=3.9.2 in /Users/jasmineyoung/opt/anaconda3/lib/python3.8/site-packages (from tensorflow->recsim==0.2.4) (3.13.0)\n",
      "Requirement already satisfied: h5py<2.11.0,>=2.10.0 in /Users/jasmineyoung/opt/anaconda3/lib/python3.8/site-packages (from tensorflow->recsim==0.2.4) (2.10.0)\n",
      "Requirement already satisfied: wheel>=0.26 in /Users/jasmineyoung/opt/anaconda3/lib/python3.8/site-packages (from tensorflow->recsim==0.2.4) (0.37.0)\n",
      "Requirement already satisfied: opt-einsum>=2.3.2 in /Users/jasmineyoung/opt/anaconda3/lib/python3.8/site-packages (from tensorflow->recsim==0.2.4) (3.3.0)\n",
      "Requirement already satisfied: tensorflow-estimator<2.4.0,>=2.3.0 in /Users/jasmineyoung/opt/anaconda3/lib/python3.8/site-packages (from tensorflow->recsim==0.2.4) (2.3.0)\n",
      "Requirement already satisfied: termcolor>=1.1.0 in /Users/jasmineyoung/opt/anaconda3/lib/python3.8/site-packages (from tensorflow->recsim==0.2.4) (1.1.0)\n",
      "Requirement already satisfied: tensorboard<3,>=2.3.0 in /Users/jasmineyoung/opt/anaconda3/lib/python3.8/site-packages (from tensorflow->recsim==0.2.4) (2.7.0)\n",
      "Requirement already satisfied: google-pasta>=0.1.8 in /Users/jasmineyoung/opt/anaconda3/lib/python3.8/site-packages (from tensorflow->recsim==0.2.4) (0.2.0)\n",
      "Requirement already satisfied: wrapt>=1.11.1 in /Users/jasmineyoung/opt/anaconda3/lib/python3.8/site-packages (from tensorflow->recsim==0.2.4) (1.12.1)\n",
      "Requirement already satisfied: grpcio>=1.8.6 in /Users/jasmineyoung/opt/anaconda3/lib/python3.8/site-packages (from tensorflow->recsim==0.2.4) (1.41.1)\n",
      "Requirement already satisfied: typing_extensions in /Users/jasmineyoung/opt/anaconda3/lib/python3.8/site-packages (from jax>=0.1.72->dopamine-rl>=2.0.5->recsim==0.2.4) (4.0.0)\n",
      "Requirement already satisfied: python-dateutil>=2.7.3 in /Users/jasmineyoung/opt/anaconda3/lib/python3.8/site-packages (from pandas>=0.24.2->dopamine-rl>=2.0.5->recsim==0.2.4) (2.8.1)\n",
      "Requirement already satisfied: pytz>=2017.2 in /Users/jasmineyoung/opt/anaconda3/lib/python3.8/site-packages (from pandas>=0.24.2->dopamine-rl>=2.0.5->recsim==0.2.4) (2020.1)\n",
      "Collecting dm-tree\n",
      "  Downloading dm_tree-0.1.7-cp38-cp38-macosx_10_9_x86_64.whl (109 kB)\n",
      "\u001b[K     |████████████████████████████████| 109 kB 19.4 MB/s eta 0:00:01\n",
      "\u001b[?25hRequirement already satisfied: decorator in /Users/jasmineyoung/opt/anaconda3/lib/python3.8/site-packages (from tensorflow-probability>=0.13.0->dopamine-rl>=2.0.5->recsim==0.2.4) (4.4.2)\n",
      "Requirement already satisfied: flatbuffers<3.0,>=1.12 in /Users/jasmineyoung/opt/anaconda3/lib/python3.8/site-packages (from jaxlib>=0.1.51->dopamine-rl>=2.0.5->recsim==0.2.4) (1.12)\n",
      "Requirement already satisfied: msgpack in /Users/jasmineyoung/opt/anaconda3/lib/python3.8/site-packages (from flax>=0.2.0->dopamine-rl>=2.0.5->recsim==0.2.4) (1.0.0)\n",
      "Requirement already satisfied: matplotlib in /Users/jasmineyoung/opt/anaconda3/lib/python3.8/site-packages (from flax>=0.2.0->dopamine-rl>=2.0.5->recsim==0.2.4) (3.2.2)\n",
      "Collecting optax\n",
      "  Downloading optax-0.1.2-py3-none-any.whl (140 kB)\n",
      "\u001b[K     |████████████████████████████████| 140 kB 38.2 MB/s eta 0:00:01\n",
      "\u001b[?25hRequirement already satisfied: setuptools in /Users/jasmineyoung/opt/anaconda3/lib/python3.8/site-packages (from protobuf>=3.9.2->tensorflow->recsim==0.2.4) (49.2.0.post20200714)\n",
      "Requirement already satisfied: google-auth<3,>=1.6.3 in /Users/jasmineyoung/opt/anaconda3/lib/python3.8/site-packages (from tensorboard<3,>=2.3.0->tensorflow->recsim==0.2.4) (1.22.1)\n",
      "Requirement already satisfied: tensorboard-data-server<0.7.0,>=0.6.0 in /Users/jasmineyoung/opt/anaconda3/lib/python3.8/site-packages (from tensorboard<3,>=2.3.0->tensorflow->recsim==0.2.4) (0.6.1)\n",
      "Requirement already satisfied: tensorboard-plugin-wit>=1.6.0 in /Users/jasmineyoung/opt/anaconda3/lib/python3.8/site-packages (from tensorboard<3,>=2.3.0->tensorflow->recsim==0.2.4) (1.7.0)\n",
      "Requirement already satisfied: werkzeug>=0.11.15 in /Users/jasmineyoung/opt/anaconda3/lib/python3.8/site-packages (from tensorboard<3,>=2.3.0->tensorflow->recsim==0.2.4) (1.0.1)\n",
      "Requirement already satisfied: markdown>=2.6.8 in /Users/jasmineyoung/opt/anaconda3/lib/python3.8/site-packages (from tensorboard<3,>=2.3.0->tensorflow->recsim==0.2.4) (3.3.3)\n",
      "Requirement already satisfied: google-auth-oauthlib<0.5,>=0.4.1 in /Users/jasmineyoung/opt/anaconda3/lib/python3.8/site-packages (from tensorboard<3,>=2.3.0->tensorflow->recsim==0.2.4) (0.4.2)\n",
      "Requirement already satisfied: requests<3,>=2.21.0 in /Users/jasmineyoung/opt/anaconda3/lib/python3.8/site-packages (from tensorboard<3,>=2.3.0->tensorflow->recsim==0.2.4) (2.24.0)\n",
      "Requirement already satisfied: cycler>=0.10 in /Users/jasmineyoung/opt/anaconda3/lib/python3.8/site-packages (from matplotlib->flax>=0.2.0->dopamine-rl>=2.0.5->recsim==0.2.4) (0.10.0)\n",
      "Requirement already satisfied: pyparsing!=2.0.4,!=2.1.2,!=2.1.6,>=2.0.1 in /Users/jasmineyoung/opt/anaconda3/lib/python3.8/site-packages (from matplotlib->flax>=0.2.0->dopamine-rl>=2.0.5->recsim==0.2.4) (2.4.7)\n",
      "Requirement already satisfied: kiwisolver>=1.0.1 in /Users/jasmineyoung/opt/anaconda3/lib/python3.8/site-packages (from matplotlib->flax>=0.2.0->dopamine-rl>=2.0.5->recsim==0.2.4) (1.2.0)\n",
      "Collecting chex>=0.0.4\n",
      "  Downloading chex-0.1.3-py3-none-any.whl (72 kB)\n",
      "\u001b[K     |████████████████████████████████| 72 kB 2.3 MB/s  eta 0:00:01\n",
      "\u001b[?25hRequirement already satisfied: cachetools<5.0,>=2.0.0 in /Users/jasmineyoung/opt/anaconda3/lib/python3.8/site-packages (from google-auth<3,>=1.6.3->tensorboard<3,>=2.3.0->tensorflow->recsim==0.2.4) (4.1.1)\n",
      "Requirement already satisfied: rsa<5,>=3.1.4; python_version >= \"3.5\" in /Users/jasmineyoung/opt/anaconda3/lib/python3.8/site-packages (from google-auth<3,>=1.6.3->tensorboard<3,>=2.3.0->tensorflow->recsim==0.2.4) (4.6)\n",
      "Requirement already satisfied: pyasn1-modules>=0.2.1 in /Users/jasmineyoung/opt/anaconda3/lib/python3.8/site-packages (from google-auth<3,>=1.6.3->tensorboard<3,>=2.3.0->tensorflow->recsim==0.2.4) (0.2.8)\n",
      "Requirement already satisfied: requests-oauthlib>=0.7.0 in /Users/jasmineyoung/opt/anaconda3/lib/python3.8/site-packages (from google-auth-oauthlib<0.5,>=0.4.1->tensorboard<3,>=2.3.0->tensorflow->recsim==0.2.4) (1.3.0)\n",
      "Requirement already satisfied: urllib3!=1.25.0,!=1.25.1,<1.26,>=1.21.1 in /Users/jasmineyoung/opt/anaconda3/lib/python3.8/site-packages (from requests<3,>=2.21.0->tensorboard<3,>=2.3.0->tensorflow->recsim==0.2.4) (1.25.9)\n",
      "Requirement already satisfied: certifi>=2017.4.17 in /Users/jasmineyoung/opt/anaconda3/lib/python3.8/site-packages (from requests<3,>=2.21.0->tensorboard<3,>=2.3.0->tensorflow->recsim==0.2.4) (2020.6.20)\n",
      "Requirement already satisfied: idna<3,>=2.5 in /Users/jasmineyoung/opt/anaconda3/lib/python3.8/site-packages (from requests<3,>=2.21.0->tensorboard<3,>=2.3.0->tensorflow->recsim==0.2.4) (2.10)\n",
      "Requirement already satisfied: chardet<4,>=3.0.2 in /Users/jasmineyoung/opt/anaconda3/lib/python3.8/site-packages (from requests<3,>=2.21.0->tensorboard<3,>=2.3.0->tensorflow->recsim==0.2.4) (3.0.4)\n",
      "Requirement already satisfied: toolz>=0.9.0 in /Users/jasmineyoung/opt/anaconda3/lib/python3.8/site-packages (from chex>=0.0.4->optax->flax>=0.2.0->dopamine-rl>=2.0.5->recsim==0.2.4) (0.10.0)\n",
      "Requirement already satisfied: pyasn1>=0.1.3 in /Users/jasmineyoung/opt/anaconda3/lib/python3.8/site-packages (from rsa<5,>=3.1.4; python_version >= \"3.5\"->google-auth<3,>=1.6.3->tensorboard<3,>=2.3.0->tensorflow->recsim==0.2.4) (0.4.8)\n",
      "Requirement already satisfied: oauthlib>=3.0.0 in /Users/jasmineyoung/opt/anaconda3/lib/python3.8/site-packages (from requests-oauthlib>=0.7.0->google-auth-oauthlib<0.5,>=0.4.1->tensorboard<3,>=2.3.0->tensorflow->recsim==0.2.4) (3.1.0)\n",
      "Building wheels for collected packages: recsim, jax\n",
      "  Building wheel for recsim (setup.py) ... \u001b[?25ldone\n",
      "\u001b[?25h  Created wheel for recsim: filename=recsim-0.2.4-py3-none-any.whl size=109736 sha256=f7f9fbb5ae5903f81d9c2441ac195b966795fd45c7d7a0736d90dcc366e33798\n",
      "  Stored in directory: /private/var/folders/63/s86bv36d4c7968bfvh7fb4w40000gn/T/pip-ephem-wheel-cache-r2sdg5_7/wheels/4e/c3/dc/48e803408b55422e6f66eaf2a035f696b7131e61cf2a88b48b\n",
      "  Building wheel for jax (setup.py) ... \u001b[?25ldone\n",
      "\u001b[?25h  Created wheel for jax: filename=jax-0.3.7-py3-none-any.whl size=1091289 sha256=898c2ba57984450b174d220d27bbd23d8ec8e990643c4d127cb146fa18fde1a1\n",
      "  Stored in directory: /Users/jasmineyoung/Library/Caches/pip/wheels/fd/0a/93/63dac2c1775abcc652c527d7cb6284833ceb0465f6a36d3926\n",
      "Successfully built recsim jax\n",
      "Installing collected packages: gin-config, jax, tf-slim, dm-tree, tensorflow-probability, jaxlib, pygame, opencv-python, chex, optax, flax, dopamine-rl, recsim\n",
      "Successfully installed chex-0.1.3 dm-tree-0.1.7 dopamine-rl-4.0.2 flax-0.4.1 gin-config-0.5.0 jax-0.3.7 jaxlib-0.3.7 opencv-python-4.5.5.64 optax-0.1.2 pygame-2.1.2 recsim-0.2.4 tensorflow-probability-0.16.0 tf-slim-1.1.0\n"
     ]
    }
   ],
   "source": [
    "# Import My Cloned Github Repository\n",
    "!pip install git+https://github.com/jgy4/recsim"
   ]
  },
  {
   "cell_type": "code",
   "execution_count": 2,
   "metadata": {
    "executionInfo": {
     "elapsed": 5466,
     "status": "ok",
     "timestamp": 1650819857197,
     "user": {
      "displayName": "Jasmine Young",
      "userId": "18243393995251490363"
     },
     "user_tz": 240
    },
    "id": "G1au-TmTdZz6"
   },
   "outputs": [],
   "source": [
    "# Load Libraries\n",
    "import numpy as np\n",
    "import tensorflow as tf\n",
    "from recsim.environments import interest_evolution\n",
    "from recsim.agents import full_slate_q_agent\n",
    "from recsim.agent import AbstractEpisodicRecommenderAgent\n",
    "from recsim.simulator import runner_lib\n",
    "from gym import spaces\n",
    "import matplotlib.pyplot as plt\n",
    "from scipy import stats\n",
    "\n",
    "from recsim import document\n",
    "from recsim import user\n",
    "from recsim.choice_model import MultinomialLogitChoiceModel\n",
    "from recsim.simulator import environment\n",
    "from recsim.simulator import recsim_gym\n",
    "# Load the TensorBoard notebook extension\n",
    "%load_ext tensorboard"
   ]
  },
  {
   "cell_type": "markdown",
   "metadata": {
    "id": "DjY4MGMbF6uR"
   },
   "source": [
    "### Section 1 : Create Document Sampler, User Model, and LTS Environment"
   ]
  },
  {
   "cell_type": "markdown",
   "metadata": {
    "id": "wzCO210jp_yD"
   },
   "source": [
    "#### Section 1a: Create document class and document sampler"
   ]
  },
  {
   "cell_type": "code",
   "execution_count": 3,
   "metadata": {
    "executionInfo": {
     "elapsed": 11,
     "status": "ok",
     "timestamp": 1650819857198,
     "user": {
      "displayName": "Jasmine Young",
      "userId": "18243393995251490363"
     },
     "user_tz": 240
    },
    "id": "p1ZFczdNkaxs"
   },
   "outputs": [],
   "source": [
    "#Create our document class\n",
    "\n",
    "class LTSDocument(document.AbstractDocument):\n",
    "    def __init__(self, doc_id, kaleness):\n",
    "        self.kaleness = kaleness\n",
    "        # doc_id is an integer representing the unique ID of this document\n",
    "        super(LTSDocument, self).__init__(doc_id)\n",
    "\n",
    "    def create_observation(self):\n",
    "        return np.array([self.kaleness])\n",
    "\n",
    "    @staticmethod\n",
    "    def observation_space():\n",
    "        return spaces.Box(shape=(1,), dtype=np.float32, low=0.0, high=1.0)\n",
    "  \n",
    "    def __str__(self):\n",
    "        return \"Document {} with kaleness {}.\".format(self._doc_id, self.kaleness)"
   ]
  },
  {
   "cell_type": "code",
   "execution_count": 4,
   "metadata": {
    "executionInfo": {
     "elapsed": 10,
     "status": "ok",
     "timestamp": 1650819857198,
     "user": {
      "displayName": "Jasmine Young",
      "userId": "18243393995251490363"
     },
     "user_tz": 240
    },
    "id": "dix9LVnfqQcs"
   },
   "outputs": [],
   "source": [
    "#Create our document sampler\n",
    "\n",
    "class LTSDocumentSampler(document.AbstractDocumentSampler):\n",
    "    def __init__(self, doc_ctor=LTSDocument, **kwargs):\n",
    "        super(LTSDocumentSampler, self).__init__(doc_ctor, **kwargs)\n",
    "        self._doc_count = 0\n",
    "\n",
    "    def sample_document(self):\n",
    "        doc_features = {}\n",
    "        doc_features['doc_id'] = self._doc_count\n",
    "        doc_features['kaleness'] = self._rng.random_sample()\n",
    "        self._doc_count += 1\n",
    "        return self._doc_ctor(**doc_features)"
   ]
  },
  {
   "cell_type": "markdown",
   "metadata": {
    "id": "7SKUsNUVrJi5"
   },
   "source": [
    "Here we demonstrate with an example of how to simulate documents:"
   ]
  },
  {
   "cell_type": "code",
   "execution_count": 5,
   "metadata": {
    "colab": {
     "base_uri": "https://localhost:8080/"
    },
    "executionInfo": {
     "elapsed": 11,
     "status": "ok",
     "timestamp": 1650819857199,
     "user": {
      "displayName": "Jasmine Young",
      "userId": "18243393995251490363"
     },
     "user_tz": 240
    },
    "id": "cxbp3F2lrUbL",
    "outputId": "b86d31c2-c1f6-41e4-b35b-dd930ef3d429"
   },
   "outputs": [
    {
     "name": "stdout",
     "output_type": "stream",
     "text": [
      "Document 0 with kaleness 0.5488135039273248.\n",
      "Document 1 with kaleness 0.7151893663724195.\n",
      "Document 2 with kaleness 0.6027633760716439.\n",
      "Document 3 with kaleness 0.5448831829968969.\n",
      "Document 4 with kaleness 0.4236547993389047.\n",
      "Documents have observation space: Box([0.], [1.], (1,), float32) \n",
      "An example realization is:  [0.64589411]\n"
     ]
    }
   ],
   "source": [
    "sampler = LTSDocumentSampler()\n",
    "for i in range(5): print(sampler.sample_document())\n",
    "d = sampler.sample_document()\n",
    "print(\"Documents have observation space:\", d.observation_space(), \"\\n\"\n",
    "      \"An example realization is: \", d.create_observation())"
   ]
  },
  {
   "cell_type": "markdown",
   "metadata": {
    "id": "a1htqK1Orci1"
   },
   "source": [
    "#### Section 1b: Create a user state, a user sampler, a user state transition model, and a user response model"
   ]
  },
  {
   "cell_type": "code",
   "execution_count": 6,
   "metadata": {
    "executionInfo": {
     "elapsed": 10,
     "status": "ok",
     "timestamp": 1650819857200,
     "user": {
      "displayName": "Jasmine Young",
      "userId": "18243393995251490363"
     },
     "user_tz": 240
    },
    "id": "PeFicqS6rdSf"
   },
   "outputs": [],
   "source": [
    "#Create a user state class\n",
    "\n",
    "class LTSUserState(user.AbstractUserState):\n",
    "  def __init__(self, memory_discount, sensitivity, innovation_stddev,\n",
    "               choc_mean, choc_stddev, kale_mean, kale_stddev,\n",
    "               net_kaleness_exposure, time_budget, observation_noise_stddev=0.1\n",
    "              ):\n",
    "    ## Transition model parameters\n",
    "    ##############################\n",
    "    self.memory_discount = memory_discount\n",
    "    self.sensitivity = sensitivity\n",
    "    self.innovation_stddev = innovation_stddev\n",
    "\n",
    "    ## Engagement parameters\n",
    "    self.choc_mean = choc_mean\n",
    "    self.choc_stddev = choc_stddev\n",
    "    self.kale_mean = kale_mean\n",
    "    self.kale_stddev = kale_stddev\n",
    "\n",
    "    ## State variables\n",
    "    ##############################\n",
    "    self.net_kaleness_exposure = net_kaleness_exposure\n",
    "    self.satisfaction = 1 / (1 + np.exp(-sensitivity * net_kaleness_exposure))\n",
    "    self.time_budget = time_budget\n",
    "\n",
    "    # Noise\n",
    "    self._observation_noise = observation_noise_stddev\n",
    "\n",
    "  def create_observation(self):\n",
    "    \"\"\"User's state is not observable.\"\"\"\n",
    "    clip_low, clip_high = (-1.0 / (1.0 * self._observation_noise),\n",
    "                           1.0 / (1.0 * self._observation_noise))\n",
    "    noise = stats.truncnorm(\n",
    "        clip_low, clip_high, loc=0.0, scale=self._observation_noise).rvs()\n",
    "    noisy_sat = self.satisfaction + noise\n",
    "    return np.array([noisy_sat,])\n",
    "\n",
    "  @staticmethod\n",
    "  def observation_space():\n",
    "    return spaces.Box(shape=(1,), dtype=np.float32, low=-2.0, high=2.0)\n",
    "  \n",
    "  # scoring function: the user is more likely to click on more chocolatey content.\n",
    "  def score_document(self, doc_obs):\n",
    "    return 1 - doc_obs"
   ]
  },
  {
   "cell_type": "code",
   "execution_count": 7,
   "metadata": {
    "executionInfo": {
     "elapsed": 10,
     "status": "ok",
     "timestamp": 1650819857201,
     "user": {
      "displayName": "Jasmine Young",
      "userId": "18243393995251490363"
     },
     "user_tz": 240
    },
    "id": "q10qhqiFtTV2"
   },
   "outputs": [],
   "source": [
    "#Create a user sampler\n",
    "\n",
    "class LTSStaticUserSampler(user.AbstractUserSampler):\n",
    "  _state_parameters = None\n",
    "\n",
    "  def __init__(self,\n",
    "               user_ctor=LTSUserState,\n",
    "               memory_discount=0.9,\n",
    "               sensitivity=0.01,\n",
    "               innovation_stddev=0.05,\n",
    "               choc_mean=5.0,\n",
    "               choc_stddev=1.0,\n",
    "               kale_mean=4.0,\n",
    "               kale_stddev=1.0,\n",
    "               time_budget=60,\n",
    "               **kwargs):\n",
    "    self._state_parameters = {'memory_discount': memory_discount,\n",
    "                              'sensitivity': sensitivity,\n",
    "                              'innovation_stddev': innovation_stddev,\n",
    "                              'choc_mean': choc_mean,\n",
    "                              'choc_stddev': choc_stddev,\n",
    "                              'kale_mean': kale_mean,\n",
    "                              'kale_stddev': kale_stddev,\n",
    "                              'time_budget': time_budget\n",
    "                             }\n",
    "    super(LTSStaticUserSampler, self).__init__(user_ctor, **kwargs)\n",
    "\n",
    "  def sample_user(self):\n",
    "    starting_nke = ((self._rng.random_sample() - .5) *\n",
    "                    (1 / (1.0 - self._state_parameters['memory_discount'])))\n",
    "    self._state_parameters['net_kaleness_exposure'] = starting_nke\n",
    "    return self._user_ctor(**self._state_parameters)"
   ]
  },
  {
   "cell_type": "code",
   "execution_count": 8,
   "metadata": {
    "executionInfo": {
     "elapsed": 325,
     "status": "ok",
     "timestamp": 1650819857516,
     "user": {
      "displayName": "Jasmine Young",
      "userId": "18243393995251490363"
     },
     "user_tz": 240
    },
    "id": "KOvukm0PtVKA"
   },
   "outputs": [],
   "source": [
    "#Create a user response model\n",
    "\n",
    "class LTSResponse(user.AbstractResponse):\n",
    "  # The maximum degree of engagement.\n",
    "  MAX_ENGAGEMENT_MAGNITUDE = 100.0\n",
    "\n",
    "  def __init__(self, clicked=False, engagement=0.0):\n",
    "    self.clicked = clicked\n",
    "    self.engagement = engagement\n",
    "\n",
    "  def create_observation(self):\n",
    "    return {'click': int(self.clicked), 'engagement': np.array(self.engagement)}\n",
    "\n",
    "  @classmethod\n",
    "  def response_space(cls):\n",
    "    return spaces.Dict({\n",
    "        'click':\n",
    "            spaces.Discrete(2),\n",
    "        'engagement':\n",
    "            spaces.Box(\n",
    "                low=0.0,\n",
    "                high=cls.MAX_ENGAGEMENT_MAGNITUDE,\n",
    "                shape=tuple(),\n",
    "                dtype=np.float32)\n",
    "    })"
   ]
  },
  {
   "cell_type": "code",
   "execution_count": 9,
   "metadata": {
    "executionInfo": {
     "elapsed": 5,
     "status": "ok",
     "timestamp": 1650819857516,
     "user": {
      "displayName": "Jasmine Young",
      "userId": "18243393995251490363"
     },
     "user_tz": 240
    },
    "id": "hc4T7fFlvERd"
   },
   "outputs": [],
   "source": [
    "#Create functions that maintain user state, evolve user state as a result of recommendations, and generate a response to a slate of reccomendations\n",
    "\n",
    "def user_init(self,\n",
    "              slate_size,\n",
    "              seed=0):\n",
    "\n",
    "  super(LTSUserModel,\n",
    "        self).__init__(LTSResponse,\n",
    "                       LTSStaticUserSampler(LTSUserState,\n",
    "                                            seed=seed), slate_size)\n",
    "  self.choice_model = MultinomialLogitChoiceModel({})\n",
    "\n",
    "def simulate_response(self, slate_documents):\n",
    "  # List of empty responses\n",
    "  responses = [self._response_model_ctor() for _ in slate_documents]\n",
    "  # Get click from of choice model.\n",
    "  self.choice_model.score_documents(\n",
    "    self._user_state, [doc.create_observation() for doc in slate_documents])\n",
    "  scores = self.choice_model.scores\n",
    "  selected_index = self.choice_model.choose_item()\n",
    "  # Populate clicked item.\n",
    "  self._generate_response(slate_documents[selected_index],\n",
    "                          responses[selected_index])\n",
    "  return responses\n",
    "\n",
    "def generate_response(self, doc, response):\n",
    "  response.clicked = True\n",
    "  # linear interpolation between choc and kale.\n",
    "  engagement_loc = (doc.kaleness * self._user_state.choc_mean\n",
    "                    + (1 - doc.kaleness) * self._user_state.kale_mean)\n",
    "  engagement_loc *= self._user_state.satisfaction\n",
    "  engagement_scale = (doc.kaleness * self._user_state.choc_stddev\n",
    "                      + ((1 - doc.kaleness)\n",
    "                          * self._user_state.kale_stddev))\n",
    "  log_engagement = np.random.normal(loc=engagement_loc,\n",
    "                                    scale=engagement_scale)\n",
    "  response.engagement = np.exp(log_engagement)\n",
    "\n",
    "def update_state(self, slate_documents, responses):\n",
    "  for doc, response in zip(slate_documents, responses):\n",
    "    if response.clicked:\n",
    "      innovation = np.random.normal(scale=self._user_state.innovation_stddev)\n",
    "      net_kaleness_exposure = (self._user_state.memory_discount\n",
    "                                * self._user_state.net_kaleness_exposure\n",
    "                                - 2.0 * (doc.kaleness - 0.5)\n",
    "                                + innovation\n",
    "                              )\n",
    "      self._user_state.net_kaleness_exposure = net_kaleness_exposure\n",
    "      satisfaction = 1 / (1.0 + np.exp(-self._user_state.sensitivity\n",
    "                                        * net_kaleness_exposure)\n",
    "                          )\n",
    "      self._user_state.satisfaction = satisfaction\n",
    "      self._user_state.time_budget -= 1\n",
    "      return\n",
    "\n",
    "def is_terminal(self):\n",
    "  \"\"\"Returns a boolean indicating if the session is over.\"\"\"\n",
    "  return self._user_state.time_budget <= 0"
   ]
  },
  {
   "cell_type": "code",
   "execution_count": 10,
   "metadata": {
    "executionInfo": {
     "elapsed": 5,
     "status": "ok",
     "timestamp": 1650819857517,
     "user": {
      "displayName": "Jasmine Young",
      "userId": "18243393995251490363"
     },
     "user_tz": 240
    },
    "id": "VYjHK8Hzv9sy"
   },
   "outputs": [],
   "source": [
    "#Put everything together in a User Model\n",
    "\n",
    "LTSUserModel = type(\"LTSUserModel\", (user.AbstractUserModel,),\n",
    "                    {\"__init__\": user_init,\n",
    "                     \"is_terminal\": is_terminal,\n",
    "                     \"update_state\": update_state,\n",
    "                     \"simulate_response\": simulate_response,\n",
    "                     \"_generate_response\": generate_response})"
   ]
  },
  {
   "cell_type": "markdown",
   "metadata": {
    "id": "sZ4P4ZmtwCYm"
   },
   "source": [
    "#### Section 1c: Finally, put all the components together in an LTS environment"
   ]
  },
  {
   "cell_type": "code",
   "execution_count": 11,
   "metadata": {
    "executionInfo": {
     "elapsed": 5,
     "status": "ok",
     "timestamp": 1650819857517,
     "user": {
      "displayName": "Jasmine Young",
      "userId": "18243393995251490363"
     },
     "user_tz": 240
    },
    "id": "Rzu3Cz0XwFhK"
   },
   "outputs": [],
   "source": [
    " slate_size = 4\n",
    " num_candidates = 10\n",
    " ltsenv = environment.Environment(\n",
    "            LTSUserModel(slate_size),\n",
    "            LTSDocumentSampler(),\n",
    "            num_candidates,\n",
    "            slate_size,\n",
    "            resample_documents=True)"
   ]
  },
  {
   "cell_type": "markdown",
   "metadata": {
    "id": "CQKvGF2NwN9m"
   },
   "source": [
    "### Section 2 : Create and Train Two Agents "
   ]
  },
  {
   "cell_type": "markdown",
   "metadata": {
    "id": "2-FVKhKFwz5_"
   },
   "source": [
    "#### Section 2a: Define LTS Gym Environment"
   ]
  },
  {
   "cell_type": "code",
   "execution_count": 12,
   "metadata": {
    "executionInfo": {
     "elapsed": 5,
     "status": "ok",
     "timestamp": 1650819857517,
     "user": {
      "displayName": "Jasmine Young",
      "userId": "18243393995251490363"
     },
     "user_tz": 240
    },
    "id": "eIdH5fCZxODv"
   },
   "outputs": [],
   "source": [
    "# We'll need a reward function to create our final lts environment\n",
    "\n",
    "def clicked_engagement_reward(responses):\n",
    "  reward = 0.0\n",
    "  for response in responses:\n",
    "    if response.clicked:\n",
    "      reward += response.engagement\n",
    "  return reward"
   ]
  },
  {
   "cell_type": "code",
   "execution_count": 13,
   "metadata": {
    "executionInfo": {
     "elapsed": 4,
     "status": "ok",
     "timestamp": 1650819857517,
     "user": {
      "displayName": "Jasmine Young",
      "userId": "18243393995251490363"
     },
     "user_tz": 240
    },
    "id": "R3uWEdggMMMk"
   },
   "outputs": [],
   "source": [
    "#Use the OpenAI Gym Wrapper to create an LTS Gym Environment\n",
    "\n",
    "lts_gym_env = recsim_gym.RecSimGymEnv(ltsenv, clicked_engagement_reward)"
   ]
  },
  {
   "cell_type": "markdown",
   "metadata": {
    "id": "Oo2BmViEepg2"
   },
   "source": [
    "#### Section 2b: Create Agent"
   ]
  },
  {
   "cell_type": "code",
   "execution_count": 14,
   "metadata": {
    "executionInfo": {
     "elapsed": 5,
     "status": "ok",
     "timestamp": 1650819857518,
     "user": {
      "displayName": "Jasmine Young",
      "userId": "18243393995251490363"
     },
     "user_tz": 240
    },
    "id": "11jElXOEdfBf"
   },
   "outputs": [],
   "source": [
    "#Creating a Full Slate Q Agent\n",
    "\n",
    "def create_agent(sess, environment, eval_mode, summary_writer=None):\n",
    "  kwargs = {\n",
    "      'observation_space': environment.observation_space,\n",
    "      'action_space': environment.action_space,\n",
    "      'summary_writer': summary_writer,\n",
    "      'eval_mode': eval_mode,\n",
    "  }\n",
    "  return full_slate_q_agent.FullSlateQAgent(sess, **kwargs)"
   ]
  },
  {
   "cell_type": "markdown",
   "metadata": {
    "id": "orCtdGEpO8Ye"
   },
   "source": [
    "#### Section 2c: Train Agent"
   ]
  },
  {
   "cell_type": "code",
   "execution_count": 15,
   "metadata": {
    "executionInfo": {
     "elapsed": 314,
     "status": "ok",
     "timestamp": 1650819857827,
     "user": {
      "displayName": "Jasmine Young",
      "userId": "18243393995251490363"
     },
     "user_tz": 240
    },
    "id": "etuf71BkewsE"
   },
   "outputs": [],
   "source": [
    "# Set Seed and Environment Configurations\n",
    "\n",
    "seed = 0\n",
    "np.random.seed(seed)\n",
    "env_config = {\n",
    "  'num_candidates': 10,\n",
    "  'slate_size': 4,\n",
    "  'resample_documents': True,\n",
    "  'seed': seed,\n",
    "  }\n",
    "tmp_base_dir = '/tmp/recsim/'"
   ]
  },
  {
   "cell_type": "code",
   "execution_count": 16,
   "metadata": {
    "colab": {
     "base_uri": "https://localhost:8080/"
    },
    "id": "g9PQ3x-niA1_",
    "outputId": "f7ced6ff-e543-42b0-8483-4a5f2187270e"
   },
   "outputs": [
    {
     "name": "stdout",
     "output_type": "stream",
     "text": [
      "INFO:tensorflow:max_training_steps = 50, number_iterations = 25,checkpoint frequency = 1 iterations.\n",
      "INFO:tensorflow:max_steps_per_episode = 27000\n"
     ]
    },
    {
     "name": "stderr",
     "output_type": "stream",
     "text": [
      "/Users/jasmineyoung/opt/anaconda3/lib/python3.8/site-packages/gym/logger.py:34: UserWarning: \u001b[33mWARN: Box bound precision lowered by casting to float32\u001b[0m\n",
      "  warnings.warn(colorize(\"%s: %s\" % (\"WARN\", msg % args), \"yellow\"))\n"
     ]
    },
    {
     "name": "stdout",
     "output_type": "stream",
     "text": [
      "WARNING:tensorflow:From /Users/jasmineyoung/opt/anaconda3/lib/python3.8/site-packages/tensorflow/python/training/rmsprop.py:123: calling Ones.__init__ (from tensorflow.python.ops.init_ops) with dtype is deprecated and will be removed in a future version.\n",
      "Instructions for updating:\n",
      "Call initializer instance with the dtype argument instead of passing it to the constructor\n"
     ]
    },
    {
     "name": "stderr",
     "output_type": "stream",
     "text": [
      "WARNING:tensorflow:From /Users/jasmineyoung/opt/anaconda3/lib/python3.8/site-packages/tensorflow/python/training/rmsprop.py:123: calling Ones.__init__ (from tensorflow.python.ops.init_ops) with dtype is deprecated and will be removed in a future version.\n",
      "Instructions for updating:\n",
      "Call initializer instance with the dtype argument instead of passing it to the constructor\n"
     ]
    },
    {
     "name": "stdout",
     "output_type": "stream",
     "text": [
      "INFO:tensorflow:Beginning training...\n"
     ]
    },
    {
     "name": "stderr",
     "output_type": "stream",
     "text": [
      "INFO:tensorflow:Beginning training...\n"
     ]
    },
    {
     "name": "stdout",
     "output_type": "stream",
     "text": [
      "INFO:tensorflow:Starting iteration 0\n"
     ]
    },
    {
     "name": "stderr",
     "output_type": "stream",
     "text": [
      "INFO:tensorflow:Starting iteration 0\n"
     ]
    },
    {
     "name": "stdout",
     "output_type": "stream",
     "text": [
      "INFO:tensorflow:Starting iteration 1\n"
     ]
    },
    {
     "name": "stderr",
     "output_type": "stream",
     "text": [
      "INFO:tensorflow:Starting iteration 1\n"
     ]
    },
    {
     "name": "stdout",
     "output_type": "stream",
     "text": [
      "INFO:tensorflow:Starting iteration 2\n"
     ]
    },
    {
     "name": "stderr",
     "output_type": "stream",
     "text": [
      "INFO:tensorflow:Starting iteration 2\n"
     ]
    },
    {
     "name": "stdout",
     "output_type": "stream",
     "text": [
      "INFO:tensorflow:Starting iteration 3\n"
     ]
    },
    {
     "name": "stderr",
     "output_type": "stream",
     "text": [
      "INFO:tensorflow:Starting iteration 3\n"
     ]
    },
    {
     "name": "stdout",
     "output_type": "stream",
     "text": [
      "INFO:tensorflow:Starting iteration 4\n"
     ]
    },
    {
     "name": "stderr",
     "output_type": "stream",
     "text": [
      "INFO:tensorflow:Starting iteration 4\n"
     ]
    },
    {
     "name": "stdout",
     "output_type": "stream",
     "text": [
      "WARNING:tensorflow:From /Users/jasmineyoung/opt/anaconda3/lib/python3.8/site-packages/tensorflow/python/training/saver.py:969: remove_checkpoint (from tensorflow.python.training.checkpoint_management) is deprecated and will be removed in a future version.\n",
      "Instructions for updating:\n",
      "Use standard file APIs to delete files with this prefix.\n"
     ]
    },
    {
     "name": "stderr",
     "output_type": "stream",
     "text": [
      "WARNING:tensorflow:From /Users/jasmineyoung/opt/anaconda3/lib/python3.8/site-packages/tensorflow/python/training/saver.py:969: remove_checkpoint (from tensorflow.python.training.checkpoint_management) is deprecated and will be removed in a future version.\n",
      "Instructions for updating:\n",
      "Use standard file APIs to delete files with this prefix.\n"
     ]
    },
    {
     "name": "stdout",
     "output_type": "stream",
     "text": [
      "INFO:tensorflow:Starting iteration 5\n"
     ]
    },
    {
     "name": "stderr",
     "output_type": "stream",
     "text": [
      "INFO:tensorflow:Starting iteration 5\n"
     ]
    },
    {
     "name": "stdout",
     "output_type": "stream",
     "text": [
      "INFO:tensorflow:Starting iteration 6\n"
     ]
    },
    {
     "name": "stderr",
     "output_type": "stream",
     "text": [
      "INFO:tensorflow:Starting iteration 6\n"
     ]
    },
    {
     "name": "stdout",
     "output_type": "stream",
     "text": [
      "INFO:tensorflow:Starting iteration 7\n"
     ]
    },
    {
     "name": "stderr",
     "output_type": "stream",
     "text": [
      "INFO:tensorflow:Starting iteration 7\n"
     ]
    },
    {
     "name": "stdout",
     "output_type": "stream",
     "text": [
      "INFO:tensorflow:Starting iteration 8\n"
     ]
    },
    {
     "name": "stderr",
     "output_type": "stream",
     "text": [
      "INFO:tensorflow:Starting iteration 8\n"
     ]
    },
    {
     "name": "stdout",
     "output_type": "stream",
     "text": [
      "INFO:tensorflow:Starting iteration 9\n"
     ]
    },
    {
     "name": "stderr",
     "output_type": "stream",
     "text": [
      "INFO:tensorflow:Starting iteration 9\n"
     ]
    },
    {
     "name": "stdout",
     "output_type": "stream",
     "text": [
      "INFO:tensorflow:Starting iteration 10\n"
     ]
    },
    {
     "name": "stderr",
     "output_type": "stream",
     "text": [
      "INFO:tensorflow:Starting iteration 10\n"
     ]
    },
    {
     "name": "stdout",
     "output_type": "stream",
     "text": [
      "INFO:tensorflow:Starting iteration 11\n"
     ]
    },
    {
     "name": "stderr",
     "output_type": "stream",
     "text": [
      "INFO:tensorflow:Starting iteration 11\n"
     ]
    },
    {
     "name": "stdout",
     "output_type": "stream",
     "text": [
      "INFO:tensorflow:Starting iteration 12\n"
     ]
    },
    {
     "name": "stderr",
     "output_type": "stream",
     "text": [
      "INFO:tensorflow:Starting iteration 12\n"
     ]
    },
    {
     "name": "stdout",
     "output_type": "stream",
     "text": [
      "INFO:tensorflow:Starting iteration 13\n"
     ]
    },
    {
     "name": "stderr",
     "output_type": "stream",
     "text": [
      "INFO:tensorflow:Starting iteration 13\n"
     ]
    },
    {
     "name": "stdout",
     "output_type": "stream",
     "text": [
      "INFO:tensorflow:Starting iteration 14\n"
     ]
    },
    {
     "name": "stderr",
     "output_type": "stream",
     "text": [
      "INFO:tensorflow:Starting iteration 14\n"
     ]
    },
    {
     "name": "stdout",
     "output_type": "stream",
     "text": [
      "INFO:tensorflow:Starting iteration 15\n"
     ]
    },
    {
     "name": "stderr",
     "output_type": "stream",
     "text": [
      "INFO:tensorflow:Starting iteration 15\n"
     ]
    },
    {
     "name": "stdout",
     "output_type": "stream",
     "text": [
      "INFO:tensorflow:Starting iteration 16\n"
     ]
    },
    {
     "name": "stderr",
     "output_type": "stream",
     "text": [
      "INFO:tensorflow:Starting iteration 16\n"
     ]
    },
    {
     "name": "stdout",
     "output_type": "stream",
     "text": [
      "INFO:tensorflow:Starting iteration 17\n"
     ]
    },
    {
     "name": "stderr",
     "output_type": "stream",
     "text": [
      "INFO:tensorflow:Starting iteration 17\n"
     ]
    },
    {
     "name": "stdout",
     "output_type": "stream",
     "text": [
      "INFO:tensorflow:Starting iteration 18\n"
     ]
    },
    {
     "name": "stderr",
     "output_type": "stream",
     "text": [
      "INFO:tensorflow:Starting iteration 18\n"
     ]
    },
    {
     "name": "stdout",
     "output_type": "stream",
     "text": [
      "INFO:tensorflow:Starting iteration 19\n"
     ]
    },
    {
     "name": "stderr",
     "output_type": "stream",
     "text": [
      "INFO:tensorflow:Starting iteration 19\n"
     ]
    },
    {
     "name": "stdout",
     "output_type": "stream",
     "text": [
      "INFO:tensorflow:Starting iteration 20\n"
     ]
    },
    {
     "name": "stderr",
     "output_type": "stream",
     "text": [
      "INFO:tensorflow:Starting iteration 20\n"
     ]
    },
    {
     "name": "stdout",
     "output_type": "stream",
     "text": [
      "INFO:tensorflow:Starting iteration 21\n"
     ]
    },
    {
     "name": "stderr",
     "output_type": "stream",
     "text": [
      "INFO:tensorflow:Starting iteration 21\n"
     ]
    },
    {
     "name": "stdout",
     "output_type": "stream",
     "text": [
      "INFO:tensorflow:Starting iteration 22\n"
     ]
    },
    {
     "name": "stderr",
     "output_type": "stream",
     "text": [
      "INFO:tensorflow:Starting iteration 22\n"
     ]
    },
    {
     "name": "stdout",
     "output_type": "stream",
     "text": [
      "INFO:tensorflow:Starting iteration 23\n"
     ]
    },
    {
     "name": "stderr",
     "output_type": "stream",
     "text": [
      "INFO:tensorflow:Starting iteration 23\n"
     ]
    },
    {
     "name": "stdout",
     "output_type": "stream",
     "text": [
      "INFO:tensorflow:Starting iteration 24\n"
     ]
    },
    {
     "name": "stderr",
     "output_type": "stream",
     "text": [
      "INFO:tensorflow:Starting iteration 24\n"
     ]
    }
   ],
   "source": [
    "# Train Full Slate Q Agent on LTS Gym Environment\n",
    "\n",
    "runner = runner_lib.TrainRunner(\n",
    "    base_dir=tmp_base_dir,\n",
    "    create_agent_fn=create_agent,\n",
    "    env=lts_gym_env,\n",
    "    episode_log_file=\"\",\n",
    "    max_training_steps=50,\n",
    "    num_iterations=25)\n",
    "runner.run_experiment()"
   ]
  },
  {
   "cell_type": "markdown",
   "metadata": {
    "id": "dHCOnbkiRQYH"
   },
   "source": [
    "### Section 3: Evaluate Agent Performance with Tensorboard"
   ]
  },
  {
   "cell_type": "code",
   "execution_count": 17,
   "metadata": {
    "id": "97w1IY2OfQWC"
   },
   "outputs": [
    {
     "name": "stdout",
     "output_type": "stream",
     "text": [
      "INFO:tensorflow:max_eval_episodes = 50\n"
     ]
    },
    {
     "name": "stderr",
     "output_type": "stream",
     "text": [
      "INFO:tensorflow:max_eval_episodes = 50\n"
     ]
    },
    {
     "name": "stdout",
     "output_type": "stream",
     "text": [
      "INFO:tensorflow:max_steps_per_episode = 27000\n"
     ]
    },
    {
     "name": "stderr",
     "output_type": "stream",
     "text": [
      "INFO:tensorflow:max_steps_per_episode = 27000\n"
     ]
    },
    {
     "name": "stdout",
     "output_type": "stream",
     "text": [
      "INFO:tensorflow:Beginning evaluation...\n"
     ]
    },
    {
     "name": "stderr",
     "output_type": "stream",
     "text": [
      "INFO:tensorflow:Beginning evaluation...\n"
     ]
    },
    {
     "name": "stdout",
     "output_type": "stream",
     "text": [
      "INFO:tensorflow:Restoring parameters from /tmp/recsim/train/checkpoints/tf_ckpt-24\n"
     ]
    },
    {
     "name": "stderr",
     "output_type": "stream",
     "text": [
      "INFO:tensorflow:Restoring parameters from /tmp/recsim/train/checkpoints/tf_ckpt-24\n"
     ]
    },
    {
     "name": "stdout",
     "output_type": "stream",
     "text": [
      "INFO:tensorflow:eval_file: /tmp/recsim/eval_50/returns_1500\n"
     ]
    },
    {
     "name": "stderr",
     "output_type": "stream",
     "text": [
      "INFO:tensorflow:eval_file: /tmp/recsim/eval_50/returns_1500\n"
     ]
    }
   ],
   "source": [
    "  # Evaluate Full Slate Q Agent\n",
    "\n",
    "  runner = runner_lib.EvalRunner(\n",
    "      base_dir=tmp_base_dir,\n",
    "      create_agent_fn=create_agent,\n",
    "      env=lts_gym_env,\n",
    "      max_eval_episodes=50,\n",
    "      test_mode=True)\n",
    "  \n",
    "  runner.run_experiment()"
   ]
  },
  {
   "cell_type": "code",
   "execution_count": 18,
   "metadata": {},
   "outputs": [
    {
     "name": "stdout",
     "output_type": "stream",
     "text": [
      "ERROR! Session/line number was not unique in database. History logging moved to new session 631\n",
      "The folder you are executing pip from can no longer be found.\n"
     ]
    }
   ],
   "source": [
    "!pip install tensorboard"
   ]
  },
  {
   "cell_type": "code",
   "execution_count": null,
   "metadata": {
    "id": "phPV6Zv7fTIy"
   },
   "outputs": [
    {
     "data": {
      "text/plain": [
       "Launching TensorBoard..."
      ]
     },
     "metadata": {},
     "output_type": "display_data"
    },
    {
     "name": "stderr",
     "output_type": "stream",
     "text": [
      "ERROR:root:Internal Python error in the inspect module.\n",
      "Below is the traceback from this internal error.\n",
      "\n",
      "ERROR:root:Internal Python error in the inspect module.\n",
      "Below is the traceback from this internal error.\n",
      "\n",
      "ERROR:root:Internal Python error in the inspect module.\n",
      "Below is the traceback from this internal error.\n",
      "\n"
     ]
    },
    {
     "name": "stdout",
     "output_type": "stream",
     "text": [
      "Traceback (most recent call last):\n",
      "  File \"/Users/jasmineyoung/opt/anaconda3/lib/python3.8/site-packages/IPython/core/interactiveshell.py\", line 3343, in run_code\n",
      "    exec(code_obj, self.user_global_ns, self.user_ns)\n",
      "  File \"<ipython-input-19-9f838b8dabc7>\", line 2, in <module>\n",
      "    get_ipython().run_line_magic('tensorboard', '--logdir=/tmp/recsim/')\n",
      "  File \"/Users/jasmineyoung/opt/anaconda3/lib/python3.8/site-packages/IPython/core/interactiveshell.py\", line 2326, in run_line_magic\n",
      "    result = fn(*args, **kwargs)\n",
      "  File \"/Users/jasmineyoung/opt/anaconda3/lib/python3.8/site-packages/tensorboard/notebook.py\", line 117, in _start_magic\n",
      "    return start(line)\n",
      "  File \"/Users/jasmineyoung/opt/anaconda3/lib/python3.8/site-packages/tensorboard/notebook.py\", line 152, in start\n",
      "    start_result = manager.start(parsed_args)\n",
      "  File \"/Users/jasmineyoung/opt/anaconda3/lib/python3.8/site-packages/tensorboard/manager.py\", line 401, in start\n",
      "    working_directory=os.getcwd(),\n",
      "FileNotFoundError: [Errno 2] No such file or directory\n",
      "\n",
      "During handling of the above exception, another exception occurred:\n",
      "\n",
      "Traceback (most recent call last):\n",
      "  File \"/Users/jasmineyoung/opt/anaconda3/lib/python3.8/site-packages/IPython/core/interactiveshell.py\", line 2044, in showtraceback\n",
      "    stb = value._render_traceback_()\n",
      "AttributeError: 'FileNotFoundError' object has no attribute '_render_traceback_'\n",
      "\n",
      "During handling of the above exception, another exception occurred:\n",
      "\n",
      "Traceback (most recent call last):\n",
      "  File \"/Users/jasmineyoung/opt/anaconda3/lib/python3.8/site-packages/IPython/core/ultratb.py\", line 1169, in get_records\n",
      "    return _fixed_getinnerframes(etb, number_of_lines_of_context, tb_offset)\n",
      "  File \"/Users/jasmineyoung/opt/anaconda3/lib/python3.8/site-packages/IPython/core/ultratb.py\", line 316, in wrapped\n",
      "    return f(*args, **kwargs)\n",
      "  File \"/Users/jasmineyoung/opt/anaconda3/lib/python3.8/site-packages/IPython/core/ultratb.py\", line 350, in _fixed_getinnerframes\n",
      "    records = fix_frame_records_filenames(inspect.getinnerframes(etb, context))\n",
      "  File \"/Users/jasmineyoung/opt/anaconda3/lib/python3.8/inspect.py\", line 1503, in getinnerframes\n",
      "    frameinfo = (tb.tb_frame,) + getframeinfo(tb, context)\n",
      "  File \"/Users/jasmineyoung/opt/anaconda3/lib/python3.8/inspect.py\", line 1461, in getframeinfo\n",
      "    filename = getsourcefile(frame) or getfile(frame)\n",
      "  File \"/Users/jasmineyoung/opt/anaconda3/lib/python3.8/inspect.py\", line 708, in getsourcefile\n",
      "    if getattr(getmodule(object, filename), '__loader__', None) is not None:\n",
      "  File \"/Users/jasmineyoung/opt/anaconda3/lib/python3.8/inspect.py\", line 737, in getmodule\n",
      "    file = getabsfile(object, _filename)\n",
      "  File \"/Users/jasmineyoung/opt/anaconda3/lib/python3.8/inspect.py\", line 721, in getabsfile\n",
      "    return os.path.normcase(os.path.abspath(_filename))\n",
      "  File \"/Users/jasmineyoung/opt/anaconda3/lib/python3.8/posixpath.py\", line 379, in abspath\n",
      "    cwd = os.getcwd()\n",
      "FileNotFoundError: [Errno 2] No such file or directory\n",
      "Traceback (most recent call last):\n",
      "  File \"/Users/jasmineyoung/opt/anaconda3/lib/python3.8/site-packages/IPython/core/interactiveshell.py\", line 3343, in run_code\n",
      "    exec(code_obj, self.user_global_ns, self.user_ns)\n",
      "  File \"<ipython-input-19-9f838b8dabc7>\", line 2, in <module>\n",
      "    get_ipython().run_line_magic('tensorboard', '--logdir=/tmp/recsim/')\n",
      "  File \"/Users/jasmineyoung/opt/anaconda3/lib/python3.8/site-packages/IPython/core/interactiveshell.py\", line 2326, in run_line_magic\n",
      "    result = fn(*args, **kwargs)\n",
      "  File \"/Users/jasmineyoung/opt/anaconda3/lib/python3.8/site-packages/tensorboard/notebook.py\", line 117, in _start_magic\n",
      "    return start(line)\n",
      "  File \"/Users/jasmineyoung/opt/anaconda3/lib/python3.8/site-packages/tensorboard/notebook.py\", line 152, in start\n",
      "    start_result = manager.start(parsed_args)\n",
      "  File \"/Users/jasmineyoung/opt/anaconda3/lib/python3.8/site-packages/tensorboard/manager.py\", line 401, in start\n",
      "    working_directory=os.getcwd(),\n",
      "FileNotFoundError: [Errno 2] No such file or directory\n",
      "\n",
      "During handling of the above exception, another exception occurred:\n",
      "\n",
      "Traceback (most recent call last):\n",
      "  File \"/Users/jasmineyoung/opt/anaconda3/lib/python3.8/site-packages/IPython/core/interactiveshell.py\", line 2044, in showtraceback\n",
      "    stb = value._render_traceback_()\n",
      "AttributeError: 'FileNotFoundError' object has no attribute '_render_traceback_'\n",
      "\n",
      "During handling of the above exception, another exception occurred:\n",
      "\n",
      "Traceback (most recent call last):\n",
      "  File \"/Users/jasmineyoung/opt/anaconda3/lib/python3.8/site-packages/IPython/core/interactiveshell.py\", line 3263, in run_ast_nodes\n",
      "    if (await self.run_code(code, result,  async_=asy)):\n",
      "  File \"/Users/jasmineyoung/opt/anaconda3/lib/python3.8/site-packages/IPython/core/interactiveshell.py\", line 3360, in run_code\n",
      "    self.showtraceback(running_compiled_code=True)\n",
      "  File \"/Users/jasmineyoung/opt/anaconda3/lib/python3.8/site-packages/IPython/core/interactiveshell.py\", line 2046, in showtraceback\n",
      "    stb = self.InteractiveTB.structured_traceback(etype,\n",
      "  File \"/Users/jasmineyoung/opt/anaconda3/lib/python3.8/site-packages/IPython/core/ultratb.py\", line 1435, in structured_traceback\n",
      "    return FormattedTB.structured_traceback(\n",
      "  File \"/Users/jasmineyoung/opt/anaconda3/lib/python3.8/site-packages/IPython/core/ultratb.py\", line 1335, in structured_traceback\n",
      "    return VerboseTB.structured_traceback(\n",
      "  File \"/Users/jasmineyoung/opt/anaconda3/lib/python3.8/site-packages/IPython/core/ultratb.py\", line 1192, in structured_traceback\n",
      "    formatted_exception = self.format_exception_as_a_whole(etype, evalue, etb, number_of_lines_of_context,\n",
      "  File \"/Users/jasmineyoung/opt/anaconda3/lib/python3.8/site-packages/IPython/core/ultratb.py\", line 1150, in format_exception_as_a_whole\n",
      "    last_unique, recursion_repeat = find_recursion(orig_etype, evalue, records)\n",
      "  File \"/Users/jasmineyoung/opt/anaconda3/lib/python3.8/site-packages/IPython/core/ultratb.py\", line 451, in find_recursion\n",
      "    return len(records), 0\n",
      "TypeError: object of type 'NoneType' has no len()\n",
      "\n",
      "During handling of the above exception, another exception occurred:\n",
      "\n",
      "Traceback (most recent call last):\n",
      "  File \"/Users/jasmineyoung/opt/anaconda3/lib/python3.8/site-packages/IPython/core/interactiveshell.py\", line 2044, in showtraceback\n",
      "    stb = value._render_traceback_()\n",
      "AttributeError: 'TypeError' object has no attribute '_render_traceback_'\n",
      "\n",
      "During handling of the above exception, another exception occurred:\n",
      "\n",
      "Traceback (most recent call last):\n",
      "  File \"/Users/jasmineyoung/opt/anaconda3/lib/python3.8/site-packages/IPython/core/ultratb.py\", line 1169, in get_records\n",
      "    return _fixed_getinnerframes(etb, number_of_lines_of_context, tb_offset)\n",
      "  File \"/Users/jasmineyoung/opt/anaconda3/lib/python3.8/site-packages/IPython/core/ultratb.py\", line 316, in wrapped\n",
      "    return f(*args, **kwargs)\n",
      "  File \"/Users/jasmineyoung/opt/anaconda3/lib/python3.8/site-packages/IPython/core/ultratb.py\", line 350, in _fixed_getinnerframes\n",
      "    records = fix_frame_records_filenames(inspect.getinnerframes(etb, context))\n",
      "  File \"/Users/jasmineyoung/opt/anaconda3/lib/python3.8/inspect.py\", line 1503, in getinnerframes\n",
      "    frameinfo = (tb.tb_frame,) + getframeinfo(tb, context)\n",
      "  File \"/Users/jasmineyoung/opt/anaconda3/lib/python3.8/inspect.py\", line 1461, in getframeinfo\n",
      "    filename = getsourcefile(frame) or getfile(frame)\n",
      "  File \"/Users/jasmineyoung/opt/anaconda3/lib/python3.8/inspect.py\", line 708, in getsourcefile\n",
      "    if getattr(getmodule(object, filename), '__loader__', None) is not None:\n",
      "  File \"/Users/jasmineyoung/opt/anaconda3/lib/python3.8/inspect.py\", line 737, in getmodule\n",
      "    file = getabsfile(object, _filename)\n",
      "  File \"/Users/jasmineyoung/opt/anaconda3/lib/python3.8/inspect.py\", line 721, in getabsfile\n",
      "    return os.path.normcase(os.path.abspath(_filename))\n",
      "  File \"/Users/jasmineyoung/opt/anaconda3/lib/python3.8/posixpath.py\", line 379, in abspath\n",
      "    cwd = os.getcwd()\n",
      "FileNotFoundError: [Errno 2] No such file or directory\n",
      "Traceback (most recent call last):\n",
      "  File \"/Users/jasmineyoung/opt/anaconda3/lib/python3.8/site-packages/IPython/core/interactiveshell.py\", line 3343, in run_code\n",
      "    exec(code_obj, self.user_global_ns, self.user_ns)\n",
      "  File \"<ipython-input-19-9f838b8dabc7>\", line 2, in <module>\n",
      "    get_ipython().run_line_magic('tensorboard', '--logdir=/tmp/recsim/')\n",
      "  File \"/Users/jasmineyoung/opt/anaconda3/lib/python3.8/site-packages/IPython/core/interactiveshell.py\", line 2326, in run_line_magic\n",
      "    result = fn(*args, **kwargs)\n",
      "  File \"/Users/jasmineyoung/opt/anaconda3/lib/python3.8/site-packages/tensorboard/notebook.py\", line 117, in _start_magic\n",
      "    return start(line)\n",
      "  File \"/Users/jasmineyoung/opt/anaconda3/lib/python3.8/site-packages/tensorboard/notebook.py\", line 152, in start\n",
      "    start_result = manager.start(parsed_args)\n",
      "  File \"/Users/jasmineyoung/opt/anaconda3/lib/python3.8/site-packages/tensorboard/manager.py\", line 401, in start\n",
      "    working_directory=os.getcwd(),\n",
      "FileNotFoundError: [Errno 2] No such file or directory\n",
      "\n",
      "During handling of the above exception, another exception occurred:\n",
      "\n",
      "Traceback (most recent call last):\n",
      "  File \"/Users/jasmineyoung/opt/anaconda3/lib/python3.8/site-packages/IPython/core/interactiveshell.py\", line 2044, in showtraceback\n",
      "    stb = value._render_traceback_()\n",
      "AttributeError: 'FileNotFoundError' object has no attribute '_render_traceback_'\n",
      "\n",
      "During handling of the above exception, another exception occurred:\n",
      "\n",
      "Traceback (most recent call last):\n",
      "  File \"/Users/jasmineyoung/opt/anaconda3/lib/python3.8/site-packages/IPython/core/interactiveshell.py\", line 3263, in run_ast_nodes\n",
      "    if (await self.run_code(code, result,  async_=asy)):\n",
      "  File \"/Users/jasmineyoung/opt/anaconda3/lib/python3.8/site-packages/IPython/core/interactiveshell.py\", line 3360, in run_code\n",
      "    self.showtraceback(running_compiled_code=True)\n",
      "  File \"/Users/jasmineyoung/opt/anaconda3/lib/python3.8/site-packages/IPython/core/interactiveshell.py\", line 2046, in showtraceback\n",
      "    stb = self.InteractiveTB.structured_traceback(etype,\n",
      "  File \"/Users/jasmineyoung/opt/anaconda3/lib/python3.8/site-packages/IPython/core/ultratb.py\", line 1435, in structured_traceback\n",
      "    return FormattedTB.structured_traceback(\n",
      "  File \"/Users/jasmineyoung/opt/anaconda3/lib/python3.8/site-packages/IPython/core/ultratb.py\", line 1335, in structured_traceback\n",
      "    return VerboseTB.structured_traceback(\n",
      "  File \"/Users/jasmineyoung/opt/anaconda3/lib/python3.8/site-packages/IPython/core/ultratb.py\", line 1192, in structured_traceback\n",
      "    formatted_exception = self.format_exception_as_a_whole(etype, evalue, etb, number_of_lines_of_context,\n",
      "  File \"/Users/jasmineyoung/opt/anaconda3/lib/python3.8/site-packages/IPython/core/ultratb.py\", line 1150, in format_exception_as_a_whole\n",
      "    last_unique, recursion_repeat = find_recursion(orig_etype, evalue, records)\n",
      "  File \"/Users/jasmineyoung/opt/anaconda3/lib/python3.8/site-packages/IPython/core/ultratb.py\", line 451, in find_recursion\n",
      "    return len(records), 0\n",
      "TypeError: object of type 'NoneType' has no len()\n",
      "\n",
      "During handling of the above exception, another exception occurred:\n",
      "\n",
      "Traceback (most recent call last):\n",
      "  File \"/Users/jasmineyoung/opt/anaconda3/lib/python3.8/site-packages/IPython/core/interactiveshell.py\", line 2044, in showtraceback\n",
      "    stb = value._render_traceback_()\n",
      "AttributeError: 'TypeError' object has no attribute '_render_traceback_'\n",
      "\n",
      "During handling of the above exception, another exception occurred:\n",
      "\n",
      "Traceback (most recent call last):\n",
      "  File \"/Users/jasmineyoung/opt/anaconda3/lib/python3.8/site-packages/IPython/core/interactiveshell.py\", line 2895, in _run_cell\n",
      "    return runner(coro)\n",
      "  File \"/Users/jasmineyoung/opt/anaconda3/lib/python3.8/site-packages/IPython/core/async_helpers.py\", line 68, in _pseudo_sync_runner\n",
      "    coro.send(None)\n",
      "  File \"/Users/jasmineyoung/opt/anaconda3/lib/python3.8/site-packages/IPython/core/interactiveshell.py\", line 3071, in run_cell_async\n",
      "    has_raised = await self.run_ast_nodes(code_ast.body, cell_name,\n",
      "  File \"/Users/jasmineyoung/opt/anaconda3/lib/python3.8/site-packages/IPython/core/interactiveshell.py\", line 3282, in run_ast_nodes\n",
      "    self.showtraceback()\n",
      "  File \"/Users/jasmineyoung/opt/anaconda3/lib/python3.8/site-packages/IPython/core/interactiveshell.py\", line 2046, in showtraceback\n",
      "    stb = self.InteractiveTB.structured_traceback(etype,\n",
      "  File \"/Users/jasmineyoung/opt/anaconda3/lib/python3.8/site-packages/IPython/core/ultratb.py\", line 1435, in structured_traceback\n",
      "    return FormattedTB.structured_traceback(\n",
      "  File \"/Users/jasmineyoung/opt/anaconda3/lib/python3.8/site-packages/IPython/core/ultratb.py\", line 1335, in structured_traceback\n",
      "    return VerboseTB.structured_traceback(\n",
      "  File \"/Users/jasmineyoung/opt/anaconda3/lib/python3.8/site-packages/IPython/core/ultratb.py\", line 1210, in structured_traceback\n",
      "    formatted_exceptions += self.format_exception_as_a_whole(etype, evalue, etb, lines_of_context,\n",
      "  File \"/Users/jasmineyoung/opt/anaconda3/lib/python3.8/site-packages/IPython/core/ultratb.py\", line 1150, in format_exception_as_a_whole\n",
      "    last_unique, recursion_repeat = find_recursion(orig_etype, evalue, records)\n",
      "  File \"/Users/jasmineyoung/opt/anaconda3/lib/python3.8/site-packages/IPython/core/ultratb.py\", line 451, in find_recursion\n",
      "    return len(records), 0\n",
      "TypeError: object of type 'NoneType' has no len()\n",
      "\n",
      "During handling of the above exception, another exception occurred:\n",
      "\n",
      "Traceback (most recent call last):\n",
      "  File \"/Users/jasmineyoung/opt/anaconda3/lib/python3.8/site-packages/IPython/core/interactiveshell.py\", line 2044, in showtraceback\n",
      "    stb = value._render_traceback_()\n",
      "AttributeError: 'TypeError' object has no attribute '_render_traceback_'\n",
      "\n",
      "During handling of the above exception, another exception occurred:\n",
      "\n",
      "Traceback (most recent call last):\n",
      "  File \"/Users/jasmineyoung/opt/anaconda3/lib/python3.8/site-packages/IPython/core/ultratb.py\", line 1169, in get_records\n",
      "    return _fixed_getinnerframes(etb, number_of_lines_of_context, tb_offset)\n",
      "  File \"/Users/jasmineyoung/opt/anaconda3/lib/python3.8/site-packages/IPython/core/ultratb.py\", line 316, in wrapped\n",
      "    return f(*args, **kwargs)\n",
      "  File \"/Users/jasmineyoung/opt/anaconda3/lib/python3.8/site-packages/IPython/core/ultratb.py\", line 350, in _fixed_getinnerframes\n",
      "    records = fix_frame_records_filenames(inspect.getinnerframes(etb, context))\n",
      "  File \"/Users/jasmineyoung/opt/anaconda3/lib/python3.8/inspect.py\", line 1503, in getinnerframes\n",
      "    frameinfo = (tb.tb_frame,) + getframeinfo(tb, context)\n",
      "  File \"/Users/jasmineyoung/opt/anaconda3/lib/python3.8/inspect.py\", line 1461, in getframeinfo\n",
      "    filename = getsourcefile(frame) or getfile(frame)\n",
      "  File \"/Users/jasmineyoung/opt/anaconda3/lib/python3.8/inspect.py\", line 708, in getsourcefile\n",
      "    if getattr(getmodule(object, filename), '__loader__', None) is not None:\n",
      "  File \"/Users/jasmineyoung/opt/anaconda3/lib/python3.8/inspect.py\", line 737, in getmodule\n",
      "    file = getabsfile(object, _filename)\n",
      "  File \"/Users/jasmineyoung/opt/anaconda3/lib/python3.8/inspect.py\", line 721, in getabsfile\n",
      "    return os.path.normcase(os.path.abspath(_filename))\n",
      "  File \"/Users/jasmineyoung/opt/anaconda3/lib/python3.8/posixpath.py\", line 379, in abspath\n",
      "    cwd = os.getcwd()\n",
      "FileNotFoundError: [Errno 2] No such file or directory\n"
     ]
    }
   ],
   "source": [
    "#View Results on Tensorboard\n",
    "%tensorboard --logdir=/tmp/recsim/"
   ]
  },
  {
   "cell_type": "markdown",
   "metadata": {
    "id": "Omq_IonnTc-S"
   },
   "source": [
    "#### Results & Conclusions"
   ]
  },
  {
   "cell_type": "code",
   "execution_count": null,
   "metadata": {
    "id": "C-Y-5h8QTnks"
   },
   "outputs": [],
   "source": []
  }
 ],
 "metadata": {
  "accelerator": "GPU",
  "colab": {
   "authorship_tag": "ABX9TyNUk6N87tJyHPgkcBmaEDuj",
   "collapsed_sections": [],
   "name": "Notebook7_KaleChocEnvironment_SlateQAgent_SlateSize4.ipynb",
   "provenance": []
  },
  "kernelspec": {
   "display_name": "Python 3",
   "language": "python",
   "name": "python3"
  },
  "language_info": {
   "codemirror_mode": {
    "name": "ipython",
    "version": 3
   },
   "file_extension": ".py",
   "mimetype": "text/x-python",
   "name": "python",
   "nbconvert_exporter": "python",
   "pygments_lexer": "ipython3",
   "version": "3.8.3"
  }
 },
 "nbformat": 4,
 "nbformat_minor": 4
}
